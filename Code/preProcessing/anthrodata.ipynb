{
 "cells": [
  {
   "cell_type": "markdown",
   "id": "7eb86822",
   "metadata": {},
   "source": [
    "# Data Preprocessing\n"
   ]
  },
  {
   "cell_type": "code",
   "execution_count": 1,
   "id": "7825e63b",
   "metadata": {},
   "outputs": [],
   "source": [
    "import os\n",
    "import numpy as np\n",
    "import matplotlib.pyplot as plt\n",
    "import pandas as pd\n",
    "import glob"
   ]
  },
  {
   "cell_type": "code",
   "execution_count": 2,
   "id": "ee22a623",
   "metadata": {},
   "outputs": [],
   "source": [
    "all_data = pd.DataFrame()\n",
    "for f in glob.glob(\"../RawData/Anthro_2021/*.xlsx\"):\n",
    "    df = pd.read_excel(f)\n",
    "    all_data = all_data.append(df,ignore_index=True)"
   ]
  },
  {
   "cell_type": "code",
   "execution_count": 3,
   "id": "849eb367",
   "metadata": {},
   "outputs": [],
   "source": [
    "#drop missing values\n",
    "all_data.dropna(axis=0, inplace=True)\n",
    "\n",
    "#clean data type per column\n",
    "all_data = all_data.astype({\"subject no.\": int, \"sex\": str, \"age\": int, \"height [m]\": float, \"weight [kg]\": float})\n",
    "all_data = all_data.replace({'sex':{'F':'female','M':'male','f':'female','m':'male','Female':'female','Male':'male'}, 'height [m]':{182:1.82,180:1.80,168:1.68,178:1.78,187:1.87}})\n",
    "all_data = all_data.sort_values(by=['subject no.']).reset_index(drop=True)\n",
    "all_data.to_csv(\"anthro_2021.csv\")\n",
    "\n",
    "#pd.read_csv('anthro_2021.csv') \n",
    "#all_data.info()\n",
    "#display(all_data)"
   ]
  },
  {
   "cell_type": "code",
   "execution_count": null,
   "id": "bf0158ea",
   "metadata": {},
   "outputs": [],
   "source": []
  }
 ],
 "metadata": {
  "kernelspec": {
   "display_name": "Python 3",
   "language": "python",
   "name": "python3"
  },
  "language_info": {
   "codemirror_mode": {
    "name": "ipython",
    "version": 3
   },
   "file_extension": ".py",
   "mimetype": "text/x-python",
   "name": "python",
   "nbconvert_exporter": "python",
   "pygments_lexer": "ipython3",
   "version": "3.8.8"
  }
 },
 "nbformat": 4,
 "nbformat_minor": 5
}
